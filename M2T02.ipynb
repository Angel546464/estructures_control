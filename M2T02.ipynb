{
 "cells": [
  {
   "cell_type": "markdown",
   "id": "7fb43433",
   "metadata": {},
   "source": [
    "# EXERCICI 1\n",
    "L'exercici consisteix a crear una funció que et classifiqui una variable numèrica en funció de l’escala Suspès/Aprovat/Notable/Excel·lent.\n",
    "\n",
    "Recorda que Suspès < 5, Aprovat > 5 i < 7, Notable > 7 i < 9 i Excel·lent > 9."
   ]
  },
  {
   "cell_type": "code",
   "execution_count": 1,
   "id": "51f8a148",
   "metadata": {},
   "outputs": [],
   "source": [
    "def qualificar_notes(nota):\n",
    "    \n",
    "    if nota < 5:\n",
    "        qualificacio = \"Suspès\"\n",
    "    elif 5 <= nota < 7:\n",
    "        qualificacio = \"Aprovat\"\n",
    "    elif 7 <= nota < 9:\n",
    "        qualificacio = \"Notable\"\n",
    "    else:\n",
    "        qualificacio = \"Excelent\"\n",
    "\n",
    "    print (f\"La nota {nota} es qualifica amb un {qualificacio}\")"
   ]
  },
  {
   "cell_type": "code",
   "execution_count": 2,
   "id": "c51eea9e",
   "metadata": {},
   "outputs": [
    {
     "name": "stdout",
     "output_type": "stream",
     "text": [
      "La nota 8.2 es qualifica amb un Notable\n"
     ]
    }
   ],
   "source": [
    "qualificar_notes(8.2)"
   ]
  },
  {
   "cell_type": "markdown",
   "id": "5bd68f03",
   "metadata": {},
   "source": [
    "# EXERCICI 2\n",
    "Utilitzant el següent tutorial crea una funció que et pregunti dos números. T’ha de mostrar un missatge dient si el primer és més gran, el segon és més gran o són iguals."
   ]
  },
  {
   "cell_type": "code",
   "execution_count": 3,
   "id": "b5697127",
   "metadata": {},
   "outputs": [],
   "source": [
    "def comparar_numeros():\n",
    " \n",
    "    try:\n",
    "        numero1 = float(input(\"Introdueix el primer número: \"))\n",
    "        numero2 = float(input(\"Introdueix el segon número: \"))\n",
    "        \n",
    "        if numero1 > numero2:\n",
    "            print(\"El primer número és més gran que el segon número.\")\n",
    "        elif numero1 < numero2:\n",
    "            print(\"El segon número és més gran que el primer número.\")\n",
    "        else:\n",
    "            print(\"Els números són iguals.\")\n",
    "    except ValueError:\n",
    "        print(\"Si us plau, introdueix números vàlids.\")\n"
   ]
  },
  {
   "cell_type": "code",
   "execution_count": 4,
   "id": "a82d278a",
   "metadata": {},
   "outputs": [
    {
     "name": "stdout",
     "output_type": "stream",
     "text": [
      "Introdueix el primer número: 8.7\n",
      "Introdueix el segon número: 17\n",
      "El segon número és més gran que el primer número.\n"
     ]
    }
   ],
   "source": [
    "comparar_numeros()"
   ]
  },
  {
   "cell_type": "markdown",
   "id": "2904d205",
   "metadata": {},
   "source": [
    "# EXERCICI 3\n",
    "Crea una funció que et pregunti el teu nom, i et demani un número. Si el número és 0, hauria de mostrar un missatge d’error. En cas contrari, hauria de mostrar el nom repetit tants cops com indiqui el número. Per exemple, “Joan Joan Joan”."
   ]
  },
  {
   "cell_type": "code",
   "execution_count": 5,
   "id": "cfeacf3d",
   "metadata": {},
   "outputs": [],
   "source": [
    "def nom_repetit():\n",
    "    \n",
    "    nom = input(\"Introdueix un nom: \")\n",
    "    numero = int(input(\"Introdueix un número: \"))\n",
    "\n",
    "    if numero == 0:\n",
    "        print(\"Error: El número no pot ser 0.\")\n",
    "    else:\n",
    "        resultat = (nom + ' ') * numero\n",
    "        resultat = resultat.rstrip() \n",
    "        print(f\"{nom} es repeteix {numero} vegades:\")\n",
    "        print(resultat)"
   ]
  },
  {
   "cell_type": "code",
   "execution_count": 6,
   "id": "70705c93",
   "metadata": {},
   "outputs": [
    {
     "name": "stdout",
     "output_type": "stream",
     "text": [
      "Introdueix un nom: Angel\n",
      "Introdueix un número: 6\n",
      "Angel es repeteix 6 vegades:\n",
      "Angel Angel Angel Angel Angel Angel\n"
     ]
    }
   ],
   "source": [
    "nom_repetit()"
   ]
  },
  {
   "cell_type": "markdown",
   "id": "09df1347",
   "metadata": {},
   "source": [
    "# EXERCICI 4\n",
    "Crea una funció que donada una llista qualsevol, et digui si és simètrica o no. Si ho és, que et digui quants elements té."
   ]
  },
  {
   "cell_type": "code",
   "execution_count": 7,
   "id": "b9598229",
   "metadata": {},
   "outputs": [],
   "source": [
    "def len_si_simetrica(llista):\n",
    "    return len(llista) if llista == llista[::-1] else None\n",
    "\n",
    "def print_resultats(llista):\n",
    "    longitud = len_si_simetrica(llista)\n",
    "    if longitud is not None:\n",
    "        print(f\"La lista es simétrica y tiene {longitud} elementos.\")\n",
    "    else:\n",
    "        print(\"La lista no es simétrica.\")"
   ]
  },
  {
   "cell_type": "code",
   "execution_count": 12,
   "id": "df8ec6b1",
   "metadata": {},
   "outputs": [
    {
     "name": "stdout",
     "output_type": "stream",
     "text": [
      "La lista no es simétrica.\n"
     ]
    }
   ],
   "source": [
    "mi_lista=[6,7,8]\n",
    "print_resultats(mi_lista)"
   ]
  },
  {
   "cell_type": "code",
   "execution_count": 13,
   "id": "f76f1622",
   "metadata": {},
   "outputs": [
    {
     "name": "stdout",
     "output_type": "stream",
     "text": [
      "La lista es simétrica y tiene 5 elementos.\n"
     ]
    }
   ],
   "source": [
    "mi_lista=[5,8,9,8,5]\n",
    "print_resultats(mi_lista)"
   ]
  },
  {
   "cell_type": "markdown",
   "id": "d7c663d8",
   "metadata": {},
   "source": [
    "# EXERCICI 5\n",
    "Crea una funció que donada una llista, et digui quants números coincideixen amb la seva posició. Per exemple [3,4,2,0,2,3,6] el 2 i el 6 coincideixen."
   ]
  },
  {
   "cell_type": "code",
   "execution_count": 28,
   "id": "e90516cb",
   "metadata": {},
   "outputs": [],
   "source": [
    "def comparar_numero_posicion(lista):\n",
    "    coincidencias = []\n",
    "\n",
    "    for i, num in enumerate(lista):\n",
    "        if i == num:\n",
    "            coincidencias.append((i, num))\n",
    "    \n",
    "    if coincidencias:\n",
    "        print(\"Resultats de la comparació:\")\n",
    "        for posicion, numero in coincidencias:\n",
    "            print(f\"A la posició {posicion}, el número {numero} coincideix.\")\n",
    "    else:\n",
    "        print(\"No hi ha números que coincideixin amb la seva posició a la llista.\")\n",
    "\n",
    "    return coincidencias"
   ]
  },
  {
   "cell_type": "code",
   "execution_count": 29,
   "id": "20bf3d98",
   "metadata": {},
   "outputs": [
    {
     "name": "stdout",
     "output_type": "stream",
     "text": [
      "Resultats de la comparació:\n",
      "A la posició 2, el número 2 coincideix.\n",
      "A la posició 5, el número 5 coincideix.\n"
     ]
    },
    {
     "data": {
      "text/plain": [
       "[(2, 2), (5, 5)]"
      ]
     },
     "execution_count": 29,
     "metadata": {},
     "output_type": "execute_result"
    }
   ],
   "source": [
    "mi_lista = [8, 4, 2, 4, 3, 5, 8]\n",
    "comparar_numero_posicion(mi_lista)"
   ]
  }
 ],
 "metadata": {
  "kernelspec": {
   "display_name": "Python 3 (ipykernel)",
   "language": "python",
   "name": "python3"
  },
  "language_info": {
   "codemirror_mode": {
    "name": "ipython",
    "version": 3
   },
   "file_extension": ".py",
   "mimetype": "text/x-python",
   "name": "python",
   "nbconvert_exporter": "python",
   "pygments_lexer": "ipython3",
   "version": "3.11.3"
  }
 },
 "nbformat": 4,
 "nbformat_minor": 5
}
